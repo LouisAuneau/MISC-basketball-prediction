{
 "cells": [
  {
   "cell_type": "markdown",
   "metadata": {},
   "source": [
    "# Basketball Statistics Prediction\n",
    "\n",
    "This projects aims at predicting basketball games scores and statistics, using French championship (LNB Jeep Elite) data. This notebook will be used as a raw note book, with planning, daily updates, notes etc.\n",
    "\n",
    "## Planning\n",
    "\n",
    "| Phase | Description                                                    |\n",
    "|-------|----------------------------------------------------------------|\n",
    "| 1     | Research on the data source, tools and methods                 |\n",
    "| 2     | Data retrieval                                                 |\n",
    "| 3     | Exploratory data analysis                                      |\n",
    "| 4     | Feature engineering                                            |\n",
    "| 5     | Model for game score prediction                                |"
   ]
  },
  {
   "cell_type": "markdown",
   "metadata": {},
   "source": [
    "## Phase 1 - Research of datasources, tools and methods\n",
    "\n",
    "**05/04 - 3:27pm**  \n",
    "Installation of a conda environment with Jupyter and pandas. Git repository creation .\n",
    "\n",
    "*Data-source(s) and data retrieval*:\n",
    "- It seems Jeep Elite data is not opened. \n",
    "- We will probably need to do web-scrapping with **Selenium**. Selenium with Python documentation here: https://selenium-python.readthedocs.io/.\n",
    "- List of all games here: https://www.lnb.fr/fr/pro-a/calendrier-proa-25.html.  \n",
    "- Season statistics per player avilable here : https://www.lnb.fr/fr/pro-a/statistiques-joueurs-39.html (both average and absolute values).\n",
    "\n",
    "Features ideas:\n",
    "- Team defense/offense averages.\n",
    "- Home/Away split.\n",
    "- Average physical measures of the players in each position (size/weight)\n",
    "\n",
    "Model:\n",
    "- Basic model using Random Forest, with few teams statistics as features, applied to college basketball: https://towardsdatascience.com/predict-college-basketball-scores-in-30-lines-of-python-148f6bd71894\n",
    "- Research paper on basketball game prediction. Importance of features selection and their relationships rather than model selection. Limit to the prediction task itself. https://arxiv.org/abs/1310.3607v1\n",
    "\n",
    "  "
   ]
  }
 ],
 "metadata": {
  "kernelspec": {
   "display_name": "Python 3",
   "language": "python",
   "name": "python3"
  },
  "language_info": {
   "codemirror_mode": {
    "name": "ipython",
    "version": 3
   },
   "file_extension": ".py",
   "mimetype": "text/x-python",
   "name": "python",
   "nbconvert_exporter": "python",
   "pygments_lexer": "ipython3",
   "version": "3.7.6"
  }
 },
 "nbformat": 4,
 "nbformat_minor": 4
}
